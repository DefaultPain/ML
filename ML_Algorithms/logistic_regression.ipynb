{
 "cells": [
  {
   "cell_type": "markdown",
   "metadata": {
    "collapsed": true
   },
   "source": [
    "# Logistic Regression"
   ]
  },
  {
   "cell_type": "markdown",
   "metadata": {},
   "source": [
    "## MNIST Dataset Overview\n",
    "\n",
    "This example is using MNIST handwritten digits. The dataset contains 60,000 examples for training and 10,000 examples for testing. The digits have been size-normalized and centered in a fixed-size image (28x28 pixels) with values from 0 to 1. For simplicity, each image has been flattened and converted to a 1-D numpy array of 784 features (28*28).\n"
   ]
  },
  {
   "cell_type": "code",
   "execution_count": 12,
   "metadata": {},
   "outputs": [
    {
     "name": "stdout",
     "output_type": "stream",
     "text": [
      "Extracting /tmp/data/train-images-idx3-ubyte.gz\n",
      "Extracting /tmp/data/train-labels-idx1-ubyte.gz\n",
      "Extracting /tmp/data/t10k-images-idx3-ubyte.gz\n",
      "Extracting /tmp/data/t10k-labels-idx1-ubyte.gz\n"
     ]
    }
   ],
   "source": [
    "\n",
    "import tensorflow as tf\n",
    "import random\n",
    "\n",
    "\n",
    "\n",
    "# Import MINST data\n",
    "from tensorflow.examples.tutorials.mnist import input_data\n",
    "mnist = input_data.read_data_sets(\"/tmp/data/\", one_hot=True)"
   ]
  },
  {
   "cell_type": "code",
   "execution_count": 13,
   "metadata": {},
   "outputs": [],
   "source": [
    "# Parameters\n",
    "learning_rate = 0.01\n",
    "training_epochs = 100\n",
    "batch_size = 300\n",
    "display_step = 2\n",
    "\n",
    "# tf Graph Input\n",
    "x = tf.placeholder(tf.float32, [None, 784]) # mnist data image of shape 28*28=784\n",
    "y = tf.placeholder(tf.float32, [None, 10]) # 0-9 digits recognition => 10 classes\n",
    "\n",
    "# Set model weights\n",
    "W = tf.Variable(tf.zeros([784, 10]))\n",
    "b = tf.Variable(tf.zeros([10]))\n",
    "\n",
    "# Construct model\n",
    "pred = tf.nn.softmax(tf.matmul(x, W) + b) # Softmax\n",
    "\n",
    "# Minimize error using cross entropy\n",
    "cost = tf.reduce_mean(-tf.reduce_sum(y*tf.log(pred), reduction_indices=1))\n",
    "# Gradient Descent\n",
    "optimizer = tf.train.GradientDescentOptimizer(learning_rate).minimize(cost)\n",
    "\n",
    "# Initialize the variables (i.e. assign their default value)\n",
    "init = tf.global_variables_initializer()"
   ]
  },
  {
   "cell_type": "code",
   "execution_count": 14,
   "metadata": {},
   "outputs": [
    {
     "name": "stdout",
     "output_type": "stream",
     "text": [
      "Epoch: 2 cost= 1.0545531602505132\n",
      "Epoch: 4 cost= 0.7261908829537895\n",
      "Epoch: 6 cost= 0.6118919696312783\n",
      "Epoch: 8 cost= 0.5511594753447778\n",
      "Epoch: 10 cost= 0.5129124124844866\n",
      "Epoch: 12 cost= 0.485756678985116\n",
      "Epoch: 14 cost= 0.46443274552053465\n",
      "Epoch: 16 cost= 0.44910035970432494\n",
      "Epoch: 18 cost= 0.43599733172870064\n",
      "Epoch: 20 cost= 0.42655649276379026\n",
      "Epoch: 22 cost= 0.4162863212856438\n",
      "Epoch: 24 cost= 0.4078819110093874\n",
      "Epoch: 26 cost= 0.39957885533734067\n",
      "Epoch: 28 cost= 0.3927593275171811\n",
      "Epoch: 30 cost= 0.3898440474043778\n",
      "Epoch: 32 cost= 0.38488370912974\n",
      "Epoch: 34 cost= 0.378413769391065\n",
      "Epoch: 36 cost= 0.3782965260776665\n",
      "Epoch: 38 cost= 0.3730786398786015\n",
      "Epoch: 40 cost= 0.36699734326920214\n",
      "Epoch: 42 cost= 0.3667391183597793\n",
      "Epoch: 44 cost= 0.3615360584089664\n",
      "Epoch: 46 cost= 0.3598743663296673\n",
      "Epoch: 48 cost= 0.3573149382416669\n",
      "Epoch: 50 cost= 0.35571989343791693\n",
      "Epoch: 52 cost= 0.3519940689776113\n",
      "Epoch: 54 cost= 0.35219423415882334\n",
      "Epoch: 56 cost= 0.3481479490715296\n",
      "Epoch: 58 cost= 0.3449069356820622\n",
      "Epoch: 60 cost= 0.3436595519872312\n",
      "Epoch: 62 cost= 0.3448872831675525\n",
      "Epoch: 64 cost= 0.3415325908550149\n",
      "Epoch: 66 cost= 0.337352521188272\n",
      "Epoch: 68 cost= 0.3366951815417558\n",
      "Epoch: 70 cost= 0.3370278179645538\n",
      "Epoch: 72 cost= 0.3314904110516357\n",
      "Epoch: 74 cost= 0.3321946498637642\n",
      "Epoch: 76 cost= 0.3338025896275631\n",
      "Epoch: 78 cost= 0.3329912495743384\n",
      "Epoch: 80 cost= 0.33094062733519947\n",
      "Epoch: 82 cost= 0.33070590733830374\n",
      "Epoch: 84 cost= 0.328461664459093\n",
      "Epoch: 86 cost= 0.32487795587445867\n",
      "Epoch: 88 cost= 0.32475564877192165\n",
      "Epoch: 90 cost= 0.32093083760777447\n",
      "Epoch: 92 cost= 0.3212625545556426\n",
      "Epoch: 94 cost= 0.32231803238391876\n",
      "Epoch: 96 cost= 0.319154572047171\n",
      "Epoch: 98 cost= 0.3221640071419418\n",
      "Epoch: 100 cost= 0.3202225307786402\n",
      "Optimization Finished!\n",
      "Accuracy: 0.8933333\n",
      "x dimension\n",
      "Tensor(\"Placeholder_6:0\", shape=(?, 784), dtype=float32)\n",
      "y dimension\n",
      "Tensor(\"Placeholder_7:0\", shape=(?, 10), dtype=float32)\n",
      "actual value: [7 8 8]\n",
      "predicted value [7 8 0]\n",
      "actual value: [1 1 2]\n",
      "predicted value [1 1 8]\n",
      "actual value: [3 9 3]\n",
      "predicted value [3 9 3]\n"
     ]
    }
   ],
   "source": [
    "# Start training\n",
    "with tf.Session() as sess:\n",
    "    sess.run(init)\n",
    "\n",
    "    # Training cycle\n",
    "    for epoch in range(training_epochs):\n",
    "        avg_cost = 0.\n",
    "        total_batch = int(mnist.train.num_examples/batch_size)\n",
    "        # Loop over all batches\n",
    "        for i in range(total_batch):\n",
    "            batch_xs, batch_ys = mnist.train.next_batch(batch_size)\n",
    "            # Fit training using batch data\n",
    "            _,c = sess.run([optimizer, cost], feed_dict={x: batch_xs,y: batch_ys})\n",
    "            # Compute average loss\n",
    "            avg_cost += c / total_batch\n",
    "        # Display logs per epoch step\n",
    "        if (epoch+1) % display_step == 0:\n",
    "            print (\"Epoch:\",(epoch+1), \"cost=\", (avg_cost))\n",
    "\n",
    "    print (\"Optimization Finished!\")\n",
    "\n",
    "    # Test model\n",
    "    correct_prediction = tf.equal(tf.argmax(pred, 1), tf.argmax(y, 1))\n",
    "    # Calculate accuracy for 3000 examples\n",
    "    accuracy = tf.reduce_mean(tf.cast(correct_prediction, tf.float32))\n",
    "    print (\"Accuracy:\", accuracy.eval({x: mnist.test.images[:3000], y: mnist.test.labels[:3000]}))\n",
    "    print(\"x dimension\")\n",
    "    print(x)\n",
    "    print(\"y dimension\")\n",
    "    print(y)\n",
    "    for i in range(3):\n",
    "        rand=random.randint(1,3000)\n",
    "        yy=tf.argmax(y,1)\n",
    "        #tf.cast(yy,int32)\n",
    "        print(\"actual value:\",yy.eval({y:mnist.test.labels[rand:rand+3]}))\n",
    "        xx=tf.argmax(pred,1)\n",
    "        #tf.cast(xx,int32)\n",
    "        print(\"predicted value\",xx.eval({x:mnist.test.images[rand:rand+3]}))\n",
    "        \n",
    "    \n",
    "    \n",
    "    \n",
    "    \n",
    "    "
   ]
  },
  {
   "cell_type": "code",
   "execution_count": 15,
   "metadata": {},
   "outputs": [
    {
     "data": {
      "text/plain": [
       "'\\n import random \\n %matplotlib inline \\n import matplotlib.pyplot as plt\\n import numpy as np\\n rand=random.randint(1,3000)\\n print(rand)\\n first_image = mnist.test.images[rand]\\n first_image = np.array(first_image, dtype=\\'float\\')\\n pixels = first_image.reshape((28, 28))\\n plt.imshow(pixels, cmap=\\'gray\\')\\n plt.show()\\n sess.run(W)\\n xx=mnist.test.images[rand]\\n yy=mnist.test.labels[rand]\\n y=np.argmax(yy,0)\\n print(\"actual value:\",y)\\n print(tf.argmax(pred,1))\\n '"
      ]
     },
     "execution_count": 15,
     "metadata": {},
     "output_type": "execute_result"
    }
   ],
   "source": [
    "   '''\n",
    "    import random \n",
    "    %matplotlib inline \n",
    "    import matplotlib.pyplot as plt\n",
    "    import numpy as np\n",
    "    rand=random.randint(1,3000)\n",
    "    print(rand)\n",
    "    first_image = mnist.test.images[rand]\n",
    "    first_image = np.array(first_image, dtype='float')\n",
    "    pixels = first_image.reshape((28, 28))\n",
    "    plt.imshow(pixels, cmap='gray')\n",
    "    plt.show()\n",
    "    sess.run(W)\n",
    "    xx=mnist.test.images[rand]\n",
    "    yy=mnist.test.labels[rand]\n",
    "    y=np.argmax(yy,0)\n",
    "    print(\"actual value:\",y)\n",
    "    print(tf.argmax(pred,1))\n",
    "    '''"
   ]
  },
  {
   "cell_type": "code",
   "execution_count": null,
   "metadata": {},
   "outputs": [],
   "source": [
    "\n",
    "    "
   ]
  },
  {
   "cell_type": "code",
   "execution_count": null,
   "metadata": {},
   "outputs": [],
   "source": []
  }
 ],
 "metadata": {
  "anaconda-cloud": {},
  "kernelspec": {
   "display_name": "Python 3",
   "language": "python",
   "name": "python3"
  },
  "language_info": {
   "codemirror_mode": {
    "name": "ipython",
    "version": 3
   },
   "file_extension": ".py",
   "mimetype": "text/x-python",
   "name": "python",
   "nbconvert_exporter": "python",
   "pygments_lexer": "ipython3",
   "version": "3.6.7"
  }
 },
 "nbformat": 4,
 "nbformat_minor": 1
}
