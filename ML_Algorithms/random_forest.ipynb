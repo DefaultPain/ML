import IPython.nbformat.current as nbf
nb = nbf.read(open('variational_autoencoder.py', 'r'), 'py')
nbf.write(nb, open('variational_autoencoder.ipynb', 'w'), 'ipynb'